{
 "cells": [
  {
   "cell_type": "code",
   "execution_count": 1,
   "metadata": {},
   "outputs": [],
   "source": [
    "import numpy as np\n",
    "import pandas as pd\n",
    "\n",
    "import matplotlib.pyplot as plt\n",
    "import seaborn as sns"
   ]
  },
  {
   "cell_type": "code",
   "execution_count": 2,
   "metadata": {},
   "outputs": [
    {
     "data": {
      "text/html": [
       "<div>\n",
       "<style scoped>\n",
       "    .dataframe tbody tr th:only-of-type {\n",
       "        vertical-align: middle;\n",
       "    }\n",
       "\n",
       "    .dataframe tbody tr th {\n",
       "        vertical-align: top;\n",
       "    }\n",
       "\n",
       "    .dataframe thead th {\n",
       "        text-align: right;\n",
       "    }\n",
       "</style>\n",
       "<table border=\"1\" class=\"dataframe\">\n",
       "  <thead>\n",
       "    <tr style=\"text-align: right;\">\n",
       "      <th></th>\n",
       "      <th>tube_assembly_id</th>\n",
       "      <th>supplier</th>\n",
       "      <th>annual_usage</th>\n",
       "      <th>min_order_quantity</th>\n",
       "      <th>bracket_pricing</th>\n",
       "      <th>quantity</th>\n",
       "      <th>cost</th>\n",
       "      <th>diameter</th>\n",
       "      <th>wall</th>\n",
       "      <th>length</th>\n",
       "      <th>...</th>\n",
       "      <th>component_id_5</th>\n",
       "      <th>quantity_5</th>\n",
       "      <th>component_id_6</th>\n",
       "      <th>quantity_6</th>\n",
       "      <th>component_id_7</th>\n",
       "      <th>quantity_7</th>\n",
       "      <th>component_id_8</th>\n",
       "      <th>quantity_8</th>\n",
       "      <th>Total_quantity</th>\n",
       "      <th>Total_weight</th>\n",
       "    </tr>\n",
       "  </thead>\n",
       "  <tbody>\n",
       "    <tr>\n",
       "      <th>0</th>\n",
       "      <td>2</td>\n",
       "      <td>66</td>\n",
       "      <td>0</td>\n",
       "      <td>1</td>\n",
       "      <td>1</td>\n",
       "      <td>1</td>\n",
       "      <td>21.905933</td>\n",
       "      <td>6.35</td>\n",
       "      <td>0.71</td>\n",
       "      <td>137.0</td>\n",
       "      <td>...</td>\n",
       "      <td>0.0</td>\n",
       "      <td>0.0</td>\n",
       "      <td>0.0</td>\n",
       "      <td>0.0</td>\n",
       "      <td>0.0</td>\n",
       "      <td>0.0</td>\n",
       "      <td>0.0</td>\n",
       "      <td>0.0</td>\n",
       "      <td>2.0</td>\n",
       "      <td>0.018</td>\n",
       "    </tr>\n",
       "    <tr>\n",
       "      <th>1</th>\n",
       "      <td>2</td>\n",
       "      <td>66</td>\n",
       "      <td>0</td>\n",
       "      <td>2</td>\n",
       "      <td>1</td>\n",
       "      <td>2</td>\n",
       "      <td>12.341214</td>\n",
       "      <td>6.35</td>\n",
       "      <td>0.71</td>\n",
       "      <td>137.0</td>\n",
       "      <td>...</td>\n",
       "      <td>0.0</td>\n",
       "      <td>0.0</td>\n",
       "      <td>0.0</td>\n",
       "      <td>0.0</td>\n",
       "      <td>0.0</td>\n",
       "      <td>0.0</td>\n",
       "      <td>0.0</td>\n",
       "      <td>0.0</td>\n",
       "      <td>2.0</td>\n",
       "      <td>0.018</td>\n",
       "    </tr>\n",
       "    <tr>\n",
       "      <th>2</th>\n",
       "      <td>2</td>\n",
       "      <td>66</td>\n",
       "      <td>0</td>\n",
       "      <td>5</td>\n",
       "      <td>1</td>\n",
       "      <td>5</td>\n",
       "      <td>6.601826</td>\n",
       "      <td>6.35</td>\n",
       "      <td>0.71</td>\n",
       "      <td>137.0</td>\n",
       "      <td>...</td>\n",
       "      <td>0.0</td>\n",
       "      <td>0.0</td>\n",
       "      <td>0.0</td>\n",
       "      <td>0.0</td>\n",
       "      <td>0.0</td>\n",
       "      <td>0.0</td>\n",
       "      <td>0.0</td>\n",
       "      <td>0.0</td>\n",
       "      <td>2.0</td>\n",
       "      <td>0.018</td>\n",
       "    </tr>\n",
       "    <tr>\n",
       "      <th>3</th>\n",
       "      <td>2</td>\n",
       "      <td>66</td>\n",
       "      <td>0</td>\n",
       "      <td>10</td>\n",
       "      <td>1</td>\n",
       "      <td>10</td>\n",
       "      <td>4.687770</td>\n",
       "      <td>6.35</td>\n",
       "      <td>0.71</td>\n",
       "      <td>137.0</td>\n",
       "      <td>...</td>\n",
       "      <td>0.0</td>\n",
       "      <td>0.0</td>\n",
       "      <td>0.0</td>\n",
       "      <td>0.0</td>\n",
       "      <td>0.0</td>\n",
       "      <td>0.0</td>\n",
       "      <td>0.0</td>\n",
       "      <td>0.0</td>\n",
       "      <td>2.0</td>\n",
       "      <td>0.018</td>\n",
       "    </tr>\n",
       "    <tr>\n",
       "      <th>4</th>\n",
       "      <td>2</td>\n",
       "      <td>66</td>\n",
       "      <td>0</td>\n",
       "      <td>25</td>\n",
       "      <td>1</td>\n",
       "      <td>25</td>\n",
       "      <td>3.541561</td>\n",
       "      <td>6.35</td>\n",
       "      <td>0.71</td>\n",
       "      <td>137.0</td>\n",
       "      <td>...</td>\n",
       "      <td>0.0</td>\n",
       "      <td>0.0</td>\n",
       "      <td>0.0</td>\n",
       "      <td>0.0</td>\n",
       "      <td>0.0</td>\n",
       "      <td>0.0</td>\n",
       "      <td>0.0</td>\n",
       "      <td>0.0</td>\n",
       "      <td>2.0</td>\n",
       "      <td>0.018</td>\n",
       "    </tr>\n",
       "  </tbody>\n",
       "</table>\n",
       "<p>5 rows × 44 columns</p>\n",
       "</div>"
      ],
      "text/plain": [
       "   tube_assembly_id  supplier  annual_usage  min_order_quantity  \\\n",
       "0                 2        66             0                   1   \n",
       "1                 2        66             0                   2   \n",
       "2                 2        66             0                   5   \n",
       "3                 2        66             0                  10   \n",
       "4                 2        66             0                  25   \n",
       "\n",
       "   bracket_pricing  quantity       cost  diameter  wall  length      ...       \\\n",
       "0                1         1  21.905933      6.35  0.71   137.0      ...        \n",
       "1                1         2  12.341214      6.35  0.71   137.0      ...        \n",
       "2                1         5   6.601826      6.35  0.71   137.0      ...        \n",
       "3                1        10   4.687770      6.35  0.71   137.0      ...        \n",
       "4                1        25   3.541561      6.35  0.71   137.0      ...        \n",
       "\n",
       "   component_id_5  quantity_5  component_id_6  quantity_6  component_id_7  \\\n",
       "0             0.0         0.0             0.0         0.0             0.0   \n",
       "1             0.0         0.0             0.0         0.0             0.0   \n",
       "2             0.0         0.0             0.0         0.0             0.0   \n",
       "3             0.0         0.0             0.0         0.0             0.0   \n",
       "4             0.0         0.0             0.0         0.0             0.0   \n",
       "\n",
       "   quantity_7  component_id_8  quantity_8  Total_quantity  Total_weight  \n",
       "0         0.0             0.0         0.0             2.0         0.018  \n",
       "1         0.0             0.0         0.0             2.0         0.018  \n",
       "2         0.0             0.0         0.0             2.0         0.018  \n",
       "3         0.0             0.0         0.0             2.0         0.018  \n",
       "4         0.0             0.0         0.0             2.0         0.018  \n",
       "\n",
       "[5 rows x 44 columns]"
      ]
     },
     "execution_count": 2,
     "metadata": {},
     "output_type": "execute_result"
    }
   ],
   "source": [
    "# Load data\n",
    "\n",
    "train = pd.read_csv('train_final.csv', index_col = 0)\n",
    "train.head()"
   ]
  },
  {
   "cell_type": "code",
   "execution_count": 3,
   "metadata": {
    "scrolled": true
   },
   "outputs": [
    {
     "data": {
      "text/plain": [
       "Index(['tube_assembly_id', 'supplier', 'annual_usage', 'min_order_quantity',\n",
       "       'bracket_pricing', 'quantity', 'cost', 'diameter', 'wall', 'length',\n",
       "       'num_bends', 'bend_radius', 'end_a_1x', 'end_a_2x', 'end_x_1x',\n",
       "       'end_x_2x', 'end_a', 'end_x', 'num_boss', 'num_bracket', 'other',\n",
       "       'year', 'month', 'dayofyear', 'dayofweek', 'day', 'component_id_1',\n",
       "       'quantity_1', 'component_id_2', 'quantity_2', 'component_id_3',\n",
       "       'quantity_3', 'component_id_4', 'quantity_4', 'component_id_5',\n",
       "       'quantity_5', 'component_id_6', 'quantity_6', 'component_id_7',\n",
       "       'quantity_7', 'component_id_8', 'quantity_8', 'Total_quantity',\n",
       "       'Total_weight'],\n",
       "      dtype='object')"
      ]
     },
     "execution_count": 3,
     "metadata": {},
     "output_type": "execute_result"
    }
   ],
   "source": [
    "train.columns"
   ]
  },
  {
   "cell_type": "markdown",
   "metadata": {},
   "source": [
    "\n",
    "## Feature scaling and normalisation"
   ]
  },
  {
   "cell_type": "code",
   "execution_count": 4,
   "metadata": {},
   "outputs": [],
   "source": [
    "from sklearn.model_selection import train_test_split\n",
    "from sklearn.preprocessing import StandardScaler"
   ]
  },
  {
   "cell_type": "code",
   "execution_count": 5,
   "metadata": {},
   "outputs": [],
   "source": [
    "X = train.drop('cost', axis=1)\n",
    "y = train.cost\n",
    "\n",
    "# Log transform skewed features\n",
    "col_list = ['annual_usage', 'min_order_quantity','quantity', \n",
    "            'diameter', 'wall', 'length','num_bends', \n",
    "            'bend_radius', 'num_boss', 'num_bracket', 'other',\n",
    "            'year', 'month', 'dayofyear', 'dayofweek', 'day', \n",
    "            'component_id_1', 'quantity_1', 'component_id_2', \n",
    "            'quantity_2', 'component_id_3', 'quantity_3', \n",
    "            'component_id_4', 'quantity_4', 'component_id_5',\n",
    "            'quantity_5', 'component_id_6', 'quantity_6', \n",
    "            'component_id_7','quantity_7', 'component_id_8', \n",
    "            'quantity_8', 'Total_quantity', 'Total_weight']\n",
    "            \n",
    "for col_name in col_list:\n",
    "    X[col_name] = np.log1p(X[col_name])\n",
    "\n",
    "y = np.log1p(y)"
   ]
  },
  {
   "cell_type": "code",
   "execution_count": 6,
   "metadata": {},
   "outputs": [],
   "source": [
    "# Split train into train and validate sets\n",
    "X_train, X_valid, y_train, y_valid = train_test_split(\n",
    "    X, y, test_size=0.2, random_state=42)"
   ]
  },
  {
   "cell_type": "markdown",
   "metadata": {},
   "source": [
    "## Model Training"
   ]
  },
  {
   "cell_type": "code",
   "execution_count": 8,
   "metadata": {},
   "outputs": [],
   "source": [
    "from sklearn.ensemble import RandomForestRegressor, ExtraTreesRegressor\n",
    "from sklearn.metrics import mean_squared_error "
   ]
  },
  {
   "cell_type": "code",
   "execution_count": 9,
   "metadata": {},
   "outputs": [],
   "source": [
    "rfr = RandomForestRegressor(n_estimators=300, random_state=42)\n",
    "\n",
    "rfr.fit(X_train, y_train)\n",
    "y_pred_rfr = rfr.predict(X_valid)"
   ]
  },
  {
   "cell_type": "markdown",
   "metadata": {},
   "source": [
    "**Evaluation with Root Mean Squared Logarithmic Error (RMSLE)** \n",
    "\n",
    "If you want to join the Caterpillar competition, it was evaluated with RMSLE, which is calculated as\n",
    "\n",
    "$$RMSLE = \\sqrt{\\\\frac{1}{n} \\\\sum_{i=1}^n (\\\\log(p_i + 1) - \\\\log(a_i+1))^2 } \\$$\n",
    "\n",
    "where,\n",
    "- $p_i$ is the predicted price\n",
    "- $a_i$ is the actual price"
   ]
  },
  {
   "cell_type": "code",
   "execution_count": 10,
   "metadata": {},
   "outputs": [],
   "source": [
    "# Define RMSLE function\n",
    "def rmsle(yhat, y):\n",
    "    '''\n",
    "       We can import mean_squared_log_error (MSLE), but recall that \n",
    "       we have already log1p transformed y before we split the data\n",
    "    '''\n",
    "    return np.sqrt(mean_squared_error(yhat, y))"
   ]
  },
  {
   "cell_type": "code",
   "execution_count": 11,
   "metadata": {},
   "outputs": [
    {
     "name": "stdout",
     "output_type": "stream",
     "text": [
      "RMSLE: 0.2494\n"
     ]
    }
   ],
   "source": [
    "error = rmsle(y_pred_rfr, y_valid)\n",
    "# Print the error:\n",
    "print(\"RMSLE: %.4f\" % error)"
   ]
  },
  {
   "cell_type": "code",
   "execution_count": 12,
   "metadata": {},
   "outputs": [
    {
     "name": "stdout",
     "output_type": "stream",
     "text": [
      "RMSLE: 0.2316\n"
     ]
    }
   ],
   "source": [
    "etr = ExtraTreesRegressor(n_estimators=300, random_state=42)\n",
    "\n",
    "etr.fit(X_train, y_train)\n",
    "y_pred_etr = etr.predict(X_valid)\n",
    "\n",
    "\n",
    "error = rmsle(y_pred_etr, y_valid)\n",
    "# Print the error:\n",
    "print(\"RMSLE: %.4f\" % error)"
   ]
  },
  {
   "cell_type": "markdown",
   "metadata": {},
   "source": [
    "It seems the ExtraTreeRegressor performs much better than RandomForestRegressor"
   ]
  },
  {
   "cell_type": "markdown",
   "metadata": {},
   "source": [
    "### Cross-validation"
   ]
  },
  {
   "cell_type": "code",
   "execution_count": 13,
   "metadata": {},
   "outputs": [
    {
     "name": "stdout",
     "output_type": "stream",
     "text": [
      "RMSLE: [0.33642249 0.28195608 0.31687382 0.41183674 0.33616988]\n",
      "Mean: 0.3366518008696751\n",
      "Standard deviation: 0.042510821883734236\n"
     ]
    }
   ],
   "source": [
    "# Evaluate models using cross-validation\n",
    "from sklearn.model_selection import cross_val_score\n",
    "\n",
    "score_rfr = cross_val_score(rfr, X, y, scoring='neg_mean_squared_error', cv=5)\n",
    "\n",
    "rmsle_score = np.sqrt(-score_rfr)\n",
    "\n",
    "print(\"RMSLE:\", rmsle_score)\n",
    "print(\"Mean:\", rmsle_score.mean())\n",
    "print(\"Standard deviation:\", rmsle_score.std())"
   ]
  },
  {
   "cell_type": "code",
   "execution_count": 14,
   "metadata": {},
   "outputs": [
    {
     "name": "stdout",
     "output_type": "stream",
     "text": [
      "RMSLE: [0.29718307 0.26424793 0.30076046 0.39674188 0.33506201]\n",
      "Mean: 0.31879907045528133\n",
      "Standard deviation: 0.04496228241290504\n"
     ]
    }
   ],
   "source": [
    "# Now, let's try the ExtraTreeRegressor\n",
    "score_etr = cross_val_score(etr, X, y, scoring='neg_mean_squared_error', cv=5)\n",
    "\n",
    "rmsle_score = np.sqrt(-score_etr)\n",
    "\n",
    "print(\"RMSLE:\", rmsle_score)\n",
    "print(\"Mean:\", rmsle_score.mean())\n",
    "print(\"Standard deviation:\", rmsle_score.std())"
   ]
  },
  {
   "cell_type": "markdown",
   "metadata": {},
   "source": [
    "With cross-validation, we can see that the ExtraTree indeed perform better (with smaller mean RMSLE error) than RandomForest regressor. Let's select this model for now and fine-tune it."
   ]
  },
  {
   "cell_type": "markdown",
   "metadata": {},
   "source": [
    "### Model Fine-tuning"
   ]
  },
  {
   "cell_type": "code",
   "execution_count": 15,
   "metadata": {},
   "outputs": [
    {
     "data": {
      "text/plain": [
       "GridSearchCV(cv=5, error_score='raise-deprecating',\n",
       "             estimator=ExtraTreesRegressor(bootstrap=False, criterion='mse',\n",
       "                                           max_depth=None, max_features='auto',\n",
       "                                           max_leaf_nodes=None,\n",
       "                                           min_impurity_decrease=0.0,\n",
       "                                           min_impurity_split=None,\n",
       "                                           min_samples_leaf=1,\n",
       "                                           min_samples_split=2,\n",
       "                                           min_weight_fraction_leaf=0.0,\n",
       "                                           n_estimators='warn', n_jobs=None,\n",
       "                                           oob_score=False, random_state=42,\n",
       "                                           v...=0, warm_start=False),\n",
       "             iid='warn', n_jobs=None,\n",
       "             param_grid={'bootstrap': [True, False],\n",
       "                         'max_depth': [None, 4, 6, 8, 10, 15, 20],\n",
       "                         'max_features': ['auto', 'sqrt', 'log2'],\n",
       "                         'min_samples_leaf': [2, 4, 6, 8],\n",
       "                         'min_samples_split': [2, 4, 6, 8],\n",
       "                         'n_estimators': [300, 600, 800, 1000]},\n",
       "             pre_dispatch='2*n_jobs', refit=True, return_train_score=False,\n",
       "             scoring='neg_mean_squared_error', verbose=0)"
      ]
     },
     "execution_count": 15,
     "metadata": {},
     "output_type": "execute_result"
    }
   ],
   "source": [
    "\"\"\"Warning: It took extremely long time to run the following model\"\"\"\n",
    "\n",
    "# from sklearn.model_selection import GridSearchCV\n",
    "\n",
    "# params = {'n_estimators': [300, 600, 800, 1000],\n",
    "#           'max_depth': [None, 4, 6, 8, 10, 15, 20],\n",
    "#           'max_features': ['auto', 'sqrt', 'log2'],\n",
    "#           'min_samples_leaf': [2, 4, 6, 8],\n",
    "#           'min_samples_split': [2, 4, 6, 8],\n",
    "#           'bootstrap': [True, False] }\n",
    "    \n",
    "# etr = ExtraTreesRegressor(random_state=42)\n",
    "\n",
    "# grid_search = GridSearchCV(etr, param_grid=params, cv=5,\n",
    "#                          scoring ='neg_mean_squared_error')\n",
    "\n",
    "# grid_search.fit(X_train, y_train)"
   ]
  },
  {
   "cell_type": "code",
   "execution_count": 16,
   "metadata": {},
   "outputs": [
    {
     "data": {
      "text/plain": [
       "ExtraTreesRegressor(bootstrap=False, criterion='mse', max_depth=None,\n",
       "                    max_features='auto', max_leaf_nodes=None,\n",
       "                    min_impurity_decrease=0.0, min_impurity_split=None,\n",
       "                    min_samples_leaf=2, min_samples_split=2,\n",
       "                    min_weight_fraction_leaf=0.0, n_estimators=1000,\n",
       "                    n_jobs=None, oob_score=False, random_state=42, verbose=0,\n",
       "                    warm_start=False)"
      ]
     },
     "execution_count": 16,
     "metadata": {},
     "output_type": "execute_result"
    }
   ],
   "source": [
    "# grid_search.best_estimator_"
   ]
  },
  {
   "cell_type": "code",
   "execution_count": 17,
   "metadata": {},
   "outputs": [
    {
     "name": "stdout",
     "output_type": "stream",
     "text": [
      "RMSLE: 0.2404\n"
     ]
    }
   ],
   "source": [
    "# Copy the best parameters and make prediction on valid data.\n",
    "\n",
    "xtra = ExtraTreesRegressor(bootstrap=False, criterion='mse', max_depth=None,\n",
    "                    max_features='auto', max_leaf_nodes=None,\n",
    "                    min_impurity_decrease=0.0, min_impurity_split=None,\n",
    "                    min_samples_leaf=2, min_samples_split=2,\n",
    "                    min_weight_fraction_leaf=0.0, n_estimators=1000,\n",
    "                    n_jobs=None, oob_score=False, random_state=42, verbose=0,\n",
    "                    warm_start=False)\n",
    "\n",
    "xtra.fit(X_train, y_train)\n",
    "y_pred_xtra = xtra.predict(X_valid)\n",
    "\n",
    "error = rmsle(y_pred_xtra, y_valid)\n",
    "# Print the error:\n",
    "print(\"RMSLE: %.4f\" % error)"
   ]
  },
  {
   "cell_type": "markdown",
   "metadata": {},
   "source": [
    "With a bit of more time, and more CPU power, you could possibly get better parameters"
   ]
  },
  {
   "cell_type": "code",
   "execution_count": 19,
   "metadata": {},
   "outputs": [
    {
     "data": {
      "image/png": "[encoded data removed]",
      "text/plain": [
       "<Figure size 576x576 with 1 Axes>"
      ]
     },
     "metadata": {
      "needs_background": "light"
     },
     "output_type": "display_data"
    }
   ],
   "source": [
    "# Plot feature importance\n",
    "feature_rank = pd.Series(xtra.feature_importances_, index=X_train.columns)\n",
    "\n",
    "plt.figure(figsize=(8,8))\n",
    "feature_rank.nlargest(15).sort_values(ascending = True).plot(kind='barh')\n",
    "plt.xlabel('Importance')\n",
    "plt.title('Feature Importance', fontsize =15);"
   ]
  },
  {
   "cell_type": "markdown",
   "metadata": {},
   "source": [
    "## Model Predicting"
   ]
  },
  {
   "cell_type": "markdown",
   "metadata": {},
   "source": [
    "Now, we will apply our trained model to make prediction on the test set."
   ]
  },
  {
   "cell_type": "markdown",
   "metadata": {},
   "source": [
    "We will need to load the data first, and then follow exactly the same steps to transform the test set as we did for the train set.\n",
    "A better way to do this would have been to define functions and apply them to the test set.\n",
    "\n",
    "**Note**: The order of columns in test set should be set identical to that of those in the train set"
   ]
  },
  {
   "cell_type": "code",
   "execution_count": 54,
   "metadata": {},
   "outputs": [],
   "source": [
    "# Load test data\n",
    "test = pd.read_csv('data/test_set.csv', parse_dates=[3])\n",
    "tube = pd.read_csv(\"data/tube.csv\")\n",
    "bom = pd.read_csv(\"bom_final.csv\", index_col=0)"
   ]
  },
  {
   "cell_type": "code",
   "execution_count": 55,
   "metadata": {},
   "outputs": [
    {
     "data": {
      "text/html": [
       "<div>\n",
       "<style scoped>\n",
       "    .dataframe tbody tr th:only-of-type {\n",
       "        vertical-align: middle;\n",
       "    }\n",
       "\n",
       "    .dataframe tbody tr th {\n",
       "        vertical-align: top;\n",
       "    }\n",
       "\n",
       "    .dataframe thead th {\n",
       "        text-align: right;\n",
       "    }\n",
       "</style>\n",
       "<table border=\"1\" class=\"dataframe\">\n",
       "  <thead>\n",
       "    <tr style=\"text-align: right;\">\n",
       "      <th></th>\n",
       "      <th>id</th>\n",
       "      <th>tube_assembly_id</th>\n",
       "      <th>supplier</th>\n",
       "      <th>quote_date</th>\n",
       "      <th>annual_usage</th>\n",
       "      <th>min_order_quantity</th>\n",
       "      <th>bracket_pricing</th>\n",
       "      <th>quantity</th>\n",
       "    </tr>\n",
       "  </thead>\n",
       "  <tbody>\n",
       "    <tr>\n",
       "      <th>0</th>\n",
       "      <td>1</td>\n",
       "      <td>TA-00001</td>\n",
       "      <td>S-0066</td>\n",
       "      <td>2013-06-23</td>\n",
       "      <td>0</td>\n",
       "      <td>0</td>\n",
       "      <td>Yes</td>\n",
       "      <td>1</td>\n",
       "    </tr>\n",
       "    <tr>\n",
       "      <th>1</th>\n",
       "      <td>2</td>\n",
       "      <td>TA-00001</td>\n",
       "      <td>S-0066</td>\n",
       "      <td>2013-06-23</td>\n",
       "      <td>0</td>\n",
       "      <td>0</td>\n",
       "      <td>Yes</td>\n",
       "      <td>2</td>\n",
       "    </tr>\n",
       "    <tr>\n",
       "      <th>2</th>\n",
       "      <td>3</td>\n",
       "      <td>TA-00001</td>\n",
       "      <td>S-0066</td>\n",
       "      <td>2013-06-23</td>\n",
       "      <td>0</td>\n",
       "      <td>0</td>\n",
       "      <td>Yes</td>\n",
       "      <td>5</td>\n",
       "    </tr>\n",
       "    <tr>\n",
       "      <th>3</th>\n",
       "      <td>4</td>\n",
       "      <td>TA-00001</td>\n",
       "      <td>S-0066</td>\n",
       "      <td>2013-06-23</td>\n",
       "      <td>0</td>\n",
       "      <td>0</td>\n",
       "      <td>Yes</td>\n",
       "      <td>10</td>\n",
       "    </tr>\n",
       "    <tr>\n",
       "      <th>4</th>\n",
       "      <td>5</td>\n",
       "      <td>TA-00001</td>\n",
       "      <td>S-0066</td>\n",
       "      <td>2013-06-23</td>\n",
       "      <td>0</td>\n",
       "      <td>0</td>\n",
       "      <td>Yes</td>\n",
       "      <td>25</td>\n",
       "    </tr>\n",
       "  </tbody>\n",
       "</table>\n",
       "</div>"
      ],
      "text/plain": [
       "   id tube_assembly_id supplier quote_date  annual_usage  min_order_quantity  \\\n",
       "0   1         TA-00001   S-0066 2013-06-23             0                   0   \n",
       "1   2         TA-00001   S-0066 2013-06-23             0                   0   \n",
       "2   3         TA-00001   S-0066 2013-06-23             0                   0   \n",
       "3   4         TA-00001   S-0066 2013-06-23             0                   0   \n",
       "4   5         TA-00001   S-0066 2013-06-23             0                   0   \n",
       "\n",
       "  bracket_pricing  quantity  \n",
       "0             Yes         1  \n",
       "1             Yes         2  \n",
       "2             Yes         5  \n",
       "3             Yes        10  \n",
       "4             Yes        25  "
      ]
     },
     "execution_count": 55,
     "metadata": {},
     "output_type": "execute_result"
    }
   ],
   "source": [
    "test.head()"
   ]
  },
  {
   "cell_type": "code",
   "execution_count": 56,
   "metadata": {},
   "outputs": [
    {
     "name": "stdout",
     "output_type": "stream",
     "text": [
      "<class 'pandas.core.frame.DataFrame'>\n",
      "RangeIndex: 30235 entries, 0 to 30234\n",
      "Data columns (total 8 columns):\n",
      "id                    30235 non-null int64\n",
      "tube_assembly_id      30235 non-null object\n",
      "supplier              30235 non-null object\n",
      "quote_date            30235 non-null datetime64[ns]\n",
      "annual_usage          30235 non-null int64\n",
      "min_order_quantity    30235 non-null int64\n",
      "bracket_pricing       30235 non-null object\n",
      "quantity              30235 non-null int64\n",
      "dtypes: datetime64[ns](1), int64(4), object(3)\n",
      "memory usage: 1.8+ MB\n"
     ]
    }
   ],
   "source": [
    "test.info()"
   ]
  },
  {
   "cell_type": "code",
   "execution_count": 57,
   "metadata": {},
   "outputs": [],
   "source": [
    "test = pd.merge(test, tube, on ='tube_assembly_id')"
   ]
  },
  {
   "cell_type": "code",
   "execution_count": 58,
   "metadata": {},
   "outputs": [],
   "source": [
    "from sklearn.preprocessing import LabelEncoder\n",
    "le = LabelEncoder()\n",
    "\n",
    "test['bracket_pricing'] = le.fit_transform(test.bracket_pricing)\n",
    "test['end_a_1x'] = le.fit_transform(test.end_a_1x)\n",
    "test['end_a_2x'] = le.fit_transform(test.end_a_2x)\n",
    "test['end_x_1x'] = le.fit_transform(test.end_x_1x)\n",
    "test['end_x_2x'] = le.fit_transform(test.end_x_2x)"
   ]
  },
  {
   "cell_type": "code",
   "execution_count": 59,
   "metadata": {},
   "outputs": [],
   "source": [
    "end_form = pd.read_csv('data/tube_end_form.csv')"
   ]
  },
  {
   "cell_type": "code",
   "execution_count": 60,
   "metadata": {},
   "outputs": [],
   "source": [
    "# Lable encode 'forming' column to 0 or 1\n",
    "end_form['forming'] = le.fit_transform(end_form.forming)\n",
    "\n",
    "# Then, map 'forming' value onto 'end_a' and 'end_x' columns\n",
    "test['end_a'] = test['end_a'].map(end_form.set_index('end_form_id')['forming']) \n",
    "test['end_x'] = test['end_x'].map(end_form.set_index('end_form_id')['forming'])\n",
    "\n",
    "# Fill null value with 0, as no ends means no forming\n",
    "test.end_a.fillna(0, inplace=True)\n",
    "test.end_x.fillna(0, inplace=True)"
   ]
  },
  {
   "cell_type": "code",
   "execution_count": 61,
   "metadata": {},
   "outputs": [],
   "source": [
    "test['year'] = test.quote_date.dt.year\n",
    "test['month'] = test.quote_date.dt.month\n",
    "test['dayofyear'] = test.quote_date.dt.dayofyear\n",
    "test['dayofweek'] = test.quote_date.dt.dayofweek\n",
    "test['day'] = test.quote_date.dt.day"
   ]
  },
  {
   "cell_type": "code",
   "execution_count": 62,
   "metadata": {},
   "outputs": [],
   "source": [
    "# copy id for submission later on\n",
    "ids = test.id \n",
    "\n",
    "# Drop useless features from test for analysis\n",
    "test = test.drop(['id', 'quote_date'], axis = 1)"
   ]
  },
  {
   "cell_type": "code",
   "execution_count": 63,
   "metadata": {},
   "outputs": [
    {
     "name": "stdout",
     "output_type": "stream",
     "text": [
      "<class 'pandas.core.frame.DataFrame'>\n",
      "Int64Index: 30235 entries, 0 to 30234\n",
      "Data columns (total 44 columns):\n",
      "tube_assembly_id      30235 non-null object\n",
      "supplier              30235 non-null object\n",
      "annual_usage          30235 non-null int64\n",
      "min_order_quantity    30235 non-null int64\n",
      "bracket_pricing       30235 non-null int32\n",
      "quantity              30235 non-null int64\n",
      "material_id           30009 non-null object\n",
      "diameter              30235 non-null float64\n",
      "wall                  30235 non-null float64\n",
      "length                30235 non-null float64\n",
      "num_bends             30235 non-null int64\n",
      "bend_radius           30235 non-null float64\n",
      "end_a_1x              30235 non-null int32\n",
      "end_a_2x              30235 non-null int32\n",
      "end_x_1x              30235 non-null int32\n",
      "end_x_2x              30235 non-null int32\n",
      "end_a                 30235 non-null float64\n",
      "end_x                 30235 non-null float64\n",
      "num_boss              30235 non-null int64\n",
      "num_bracket           30235 non-null int64\n",
      "other                 30235 non-null int64\n",
      "year                  30235 non-null int64\n",
      "month                 30235 non-null int64\n",
      "dayofyear             30235 non-null int64\n",
      "dayofweek             30235 non-null int64\n",
      "day                   30235 non-null int64\n",
      "component_id_1        30235 non-null float64\n",
      "quantity_1            30235 non-null float64\n",
      "component_id_2        30235 non-null float64\n",
      "quantity_2            30235 non-null float64\n",
      "component_id_3        30235 non-null float64\n",
      "quantity_3            30235 non-null float64\n",
      "component_id_4        30235 non-null float64\n",
      "quantity_4            30235 non-null float64\n",
      "component_id_5        30235 non-null float64\n",
      "quantity_5            30235 non-null float64\n",
      "component_id_6        30235 non-null float64\n",
      "quantity_6            30235 non-null float64\n",
      "component_id_7        30235 non-null float64\n",
      "quantity_7            30235 non-null float64\n",
      "component_id_8        30235 non-null float64\n",
      "quantity_8            30235 non-null float64\n",
      "Total_quantity        30235 non-null float64\n",
      "Total_weight          30235 non-null float64\n",
      "dtypes: float64(24), int32(5), int64(12), object(3)\n",
      "memory usage: 9.8+ MB\n"
     ]
    }
   ],
   "source": [
    "test = pd.merge(test, bom, on ='tube_assembly_id')\n",
    "test.info()"
   ]
  },
  {
   "cell_type": "code",
   "execution_count": 64,
   "metadata": {},
   "outputs": [
    {
     "data": {
      "text/html": [
       "<div>\n",
       "<style scoped>\n",
       "    .dataframe tbody tr th:only-of-type {\n",
       "        vertical-align: middle;\n",
       "    }\n",
       "\n",
       "    .dataframe tbody tr th {\n",
       "        vertical-align: top;\n",
       "    }\n",
       "\n",
       "    .dataframe thead th {\n",
       "        text-align: right;\n",
       "    }\n",
       "</style>\n",
       "<table border=\"1\" class=\"dataframe\">\n",
       "  <thead>\n",
       "    <tr style=\"text-align: right;\">\n",
       "      <th></th>\n",
       "      <th>tube_assembly_id</th>\n",
       "      <th>supplier</th>\n",
       "      <th>annual_usage</th>\n",
       "      <th>min_order_quantity</th>\n",
       "      <th>bracket_pricing</th>\n",
       "      <th>quantity</th>\n",
       "      <th>material_id</th>\n",
       "      <th>diameter</th>\n",
       "      <th>wall</th>\n",
       "      <th>length</th>\n",
       "      <th>...</th>\n",
       "      <th>component_id_5</th>\n",
       "      <th>quantity_5</th>\n",
       "      <th>component_id_6</th>\n",
       "      <th>quantity_6</th>\n",
       "      <th>component_id_7</th>\n",
       "      <th>quantity_7</th>\n",
       "      <th>component_id_8</th>\n",
       "      <th>quantity_8</th>\n",
       "      <th>Total_quantity</th>\n",
       "      <th>Total_weight</th>\n",
       "    </tr>\n",
       "  </thead>\n",
       "  <tbody>\n",
       "    <tr>\n",
       "      <th>0</th>\n",
       "      <td>1</td>\n",
       "      <td>66</td>\n",
       "      <td>0</td>\n",
       "      <td>0</td>\n",
       "      <td>1</td>\n",
       "      <td>1</td>\n",
       "      <td>SP-0035</td>\n",
       "      <td>12.7</td>\n",
       "      <td>1.65</td>\n",
       "      <td>164.0</td>\n",
       "      <td>...</td>\n",
       "      <td>0.0</td>\n",
       "      <td>0.0</td>\n",
       "      <td>0.0</td>\n",
       "      <td>0.0</td>\n",
       "      <td>0.0</td>\n",
       "      <td>0.0</td>\n",
       "      <td>0.0</td>\n",
       "      <td>0.0</td>\n",
       "      <td>4.0</td>\n",
       "      <td>0.096</td>\n",
       "    </tr>\n",
       "    <tr>\n",
       "      <th>1</th>\n",
       "      <td>1</td>\n",
       "      <td>66</td>\n",
       "      <td>0</td>\n",
       "      <td>0</td>\n",
       "      <td>1</td>\n",
       "      <td>2</td>\n",
       "      <td>SP-0035</td>\n",
       "      <td>12.7</td>\n",
       "      <td>1.65</td>\n",
       "      <td>164.0</td>\n",
       "      <td>...</td>\n",
       "      <td>0.0</td>\n",
       "      <td>0.0</td>\n",
       "      <td>0.0</td>\n",
       "      <td>0.0</td>\n",
       "      <td>0.0</td>\n",
       "      <td>0.0</td>\n",
       "      <td>0.0</td>\n",
       "      <td>0.0</td>\n",
       "      <td>4.0</td>\n",
       "      <td>0.096</td>\n",
       "    </tr>\n",
       "    <tr>\n",
       "      <th>2</th>\n",
       "      <td>1</td>\n",
       "      <td>66</td>\n",
       "      <td>0</td>\n",
       "      <td>0</td>\n",
       "      <td>1</td>\n",
       "      <td>5</td>\n",
       "      <td>SP-0035</td>\n",
       "      <td>12.7</td>\n",
       "      <td>1.65</td>\n",
       "      <td>164.0</td>\n",
       "      <td>...</td>\n",
       "      <td>0.0</td>\n",
       "      <td>0.0</td>\n",
       "      <td>0.0</td>\n",
       "      <td>0.0</td>\n",
       "      <td>0.0</td>\n",
       "      <td>0.0</td>\n",
       "      <td>0.0</td>\n",
       "      <td>0.0</td>\n",
       "      <td>4.0</td>\n",
       "      <td>0.096</td>\n",
       "    </tr>\n",
       "    <tr>\n",
       "      <th>3</th>\n",
       "      <td>1</td>\n",
       "      <td>66</td>\n",
       "      <td>0</td>\n",
       "      <td>0</td>\n",
       "      <td>1</td>\n",
       "      <td>10</td>\n",
       "      <td>SP-0035</td>\n",
       "      <td>12.7</td>\n",
       "      <td>1.65</td>\n",
       "      <td>164.0</td>\n",
       "      <td>...</td>\n",
       "      <td>0.0</td>\n",
       "      <td>0.0</td>\n",
       "      <td>0.0</td>\n",
       "      <td>0.0</td>\n",
       "      <td>0.0</td>\n",
       "      <td>0.0</td>\n",
       "      <td>0.0</td>\n",
       "      <td>0.0</td>\n",
       "      <td>4.0</td>\n",
       "      <td>0.096</td>\n",
       "    </tr>\n",
       "    <tr>\n",
       "      <th>4</th>\n",
       "      <td>1</td>\n",
       "      <td>66</td>\n",
       "      <td>0</td>\n",
       "      <td>0</td>\n",
       "      <td>1</td>\n",
       "      <td>25</td>\n",
       "      <td>SP-0035</td>\n",
       "      <td>12.7</td>\n",
       "      <td>1.65</td>\n",
       "      <td>164.0</td>\n",
       "      <td>...</td>\n",
       "      <td>0.0</td>\n",
       "      <td>0.0</td>\n",
       "      <td>0.0</td>\n",
       "      <td>0.0</td>\n",
       "      <td>0.0</td>\n",
       "      <td>0.0</td>\n",
       "      <td>0.0</td>\n",
       "      <td>0.0</td>\n",
       "      <td>4.0</td>\n",
       "      <td>0.096</td>\n",
       "    </tr>\n",
       "  </tbody>\n",
       "</table>\n",
       "<p>5 rows × 44 columns</p>\n",
       "</div>"
      ],
      "text/plain": [
       "   tube_assembly_id  supplier  annual_usage  min_order_quantity  \\\n",
       "0                 1        66             0                   0   \n",
       "1                 1        66             0                   0   \n",
       "2                 1        66             0                   0   \n",
       "3                 1        66             0                   0   \n",
       "4                 1        66             0                   0   \n",
       "\n",
       "   bracket_pricing  quantity material_id  diameter  wall  length  \\\n",
       "0                1         1     SP-0035      12.7  1.65   164.0   \n",
       "1                1         2     SP-0035      12.7  1.65   164.0   \n",
       "2                1         5     SP-0035      12.7  1.65   164.0   \n",
       "3                1        10     SP-0035      12.7  1.65   164.0   \n",
       "4                1        25     SP-0035      12.7  1.65   164.0   \n",
       "\n",
       "       ...       component_id_5  quantity_5  component_id_6  quantity_6  \\\n",
       "0      ...                  0.0         0.0             0.0         0.0   \n",
       "1      ...                  0.0         0.0             0.0         0.0   \n",
       "2      ...                  0.0         0.0             0.0         0.0   \n",
       "3      ...                  0.0         0.0             0.0         0.0   \n",
       "4      ...                  0.0         0.0             0.0         0.0   \n",
       "\n",
       "   component_id_7  quantity_7  component_id_8  quantity_8  Total_quantity  \\\n",
       "0             0.0         0.0             0.0         0.0             4.0   \n",
       "1             0.0         0.0             0.0         0.0             4.0   \n",
       "2             0.0         0.0             0.0         0.0             4.0   \n",
       "3             0.0         0.0             0.0         0.0             4.0   \n",
       "4             0.0         0.0             0.0         0.0             4.0   \n",
       "\n",
       "   Total_weight  \n",
       "0         0.096  \n",
       "1         0.096  \n",
       "2         0.096  \n",
       "3         0.096  \n",
       "4         0.096  \n",
       "\n",
       "[5 rows x 44 columns]"
      ]
     },
     "execution_count": 64,
     "metadata": {},
     "output_type": "execute_result"
    }
   ],
   "source": [
    "# Split tube_assembly_id into two seperate columns\n",
    "tube_id = test['tube_assembly_id'].str.split(\"-\", n=1, expand=True)\n",
    "test['tube_assembly_id'] = tube_id[1].astype(int)\n",
    "\n",
    "# Split supplier id into two seperate columns and assign the numbers only\n",
    "supplier_id = test['supplier'].str.split(\"-\", n=1, expand=True) \n",
    "test['supplier'] = supplier_id[1].astype(int)\n",
    "\n",
    "test.head()"
   ]
  },
  {
   "cell_type": "code",
   "execution_count": 65,
   "metadata": {},
   "outputs": [],
   "source": [
    "# Align min_order_quantity with 'quantity'\n",
    "test['min_order_quantity'] = test['min_order_quantity'].where(\n",
    "    test.min_order_quantity > test.quantity, test.quantity)"
   ]
  },
  {
   "cell_type": "code",
   "execution_count": 66,
   "metadata": {},
   "outputs": [
    {
     "name": "stdout",
     "output_type": "stream",
     "text": [
      "<class 'pandas.core.frame.DataFrame'>\n",
      "Int64Index: 30235 entries, 0 to 30234\n",
      "Data columns (total 43 columns):\n",
      "tube_assembly_id      30235 non-null int32\n",
      "supplier              30235 non-null int32\n",
      "annual_usage          30235 non-null int64\n",
      "min_order_quantity    30235 non-null int64\n",
      "bracket_pricing       30235 non-null int32\n",
      "quantity              30235 non-null int64\n",
      "diameter              30235 non-null float64\n",
      "wall                  30235 non-null float64\n",
      "length                30235 non-null float64\n",
      "num_bends             30235 non-null int64\n",
      "bend_radius           30235 non-null float64\n",
      "end_a_1x              30235 non-null int32\n",
      "end_a_2x              30235 non-null int32\n",
      "end_x_1x              30235 non-null int32\n",
      "end_x_2x              30235 non-null int32\n",
      "end_a                 30235 non-null float64\n",
      "end_x                 30235 non-null float64\n",
      "num_boss              30235 non-null int64\n",
      "num_bracket           30235 non-null int64\n",
      "other                 30235 non-null int64\n",
      "year                  30235 non-null int64\n",
      "month                 30235 non-null int64\n",
      "dayofyear             30235 non-null int64\n",
      "dayofweek             30235 non-null int64\n",
      "day                   30235 non-null int64\n",
      "component_id_1        30235 non-null float64\n",
      "quantity_1            30235 non-null float64\n",
      "component_id_2        30235 non-null float64\n",
      "quantity_2            30235 non-null float64\n",
      "component_id_3        30235 non-null float64\n",
      "quantity_3            30235 non-null float64\n",
      "component_id_4        30235 non-null float64\n",
      "quantity_4            30235 non-null float64\n",
      "component_id_5        30235 non-null float64\n",
      "quantity_5            30235 non-null float64\n",
      "component_id_6        30235 non-null float64\n",
      "quantity_6            30235 non-null float64\n",
      "component_id_7        30235 non-null float64\n",
      "quantity_7            30235 non-null float64\n",
      "component_id_8        30235 non-null float64\n",
      "quantity_8            30235 non-null float64\n",
      "Total_quantity        30235 non-null float64\n",
      "Total_weight          30235 non-null float64\n",
      "dtypes: float64(24), int32(7), int64(12)\n",
      "memory usage: 9.3 MB\n"
     ]
    }
   ],
   "source": [
    "test.drop(columns=['material_id'], inplace=True)\n",
    "test.info()"
   ]
  },
  {
   "cell_type": "code",
   "execution_count": 67,
   "metadata": {},
   "outputs": [],
   "source": [
    "# Log transform skewed features in test set\n",
    "col_list = ['annual_usage', 'min_order_quantity','quantity', \n",
    "            'diameter', 'wall', 'length','num_bends', \n",
    "            'bend_radius', 'num_boss', 'num_bracket', 'other',\n",
    "            'year', 'month', 'dayofyear', 'dayofweek', 'day', \n",
    "            'component_id_1', 'quantity_1', 'component_id_2', \n",
    "            'quantity_2', 'component_id_3', 'quantity_3', \n",
    "            'component_id_4', 'quantity_4', 'component_id_5',\n",
    "            'quantity_5', 'component_id_6', 'quantity_6', \n",
    "            'component_id_7','quantity_7', 'component_id_8', \n",
    "            'quantity_8', 'Total_quantity', 'Total_weight']\n",
    "            \n",
    "for col_name in col_list:\n",
    "    test[col_name] = np.log1p(test[col_name])"
   ]
  },
  {
   "cell_type": "code",
   "execution_count": 68,
   "metadata": {},
   "outputs": [],
   "source": [
    "# Save test to file\n",
    "test.to_csv('test_final.csv')"
   ]
  },
  {
   "cell_type": "code",
   "execution_count": 69,
   "metadata": {},
   "outputs": [],
   "source": [
    "# Make predictions\n",
    "\n",
    "pred = np.expm1(xtra.predict(test))               # reverse transform prediction back to original scale\n",
    "\n",
    "pred = pd.DataFrame({\"id\": ids, \"cost\": pred})\n",
    "pred.to_csv('benchmark1.csv', index=False)         # save it to csv file for submission online"
   ]
  },
  {
   "cell_type": "markdown",
   "metadata": {},
   "source": [
    "This model received a **Private score** (70% of test data): **0.26107** and a **Public score** (30% of test data): **0.26464**"
   ]
  },
  {
   "cell_type": "markdown",
   "metadata": {},
   "source": [
    "## Conclusion"
   ]
  },
  {
   "cell_type": "markdown",
   "metadata": {},
   "source": [
    "In this tutorial, we have used suppliers quotations from Caterpillar to predict its future suppliers pricing for tube assembly.\n",
    "We have performed data loading, clearning, manipulation, and feature engineering/transformation. We have also trained different machine learning models including randomforest regression and extratree regression, and tried cross-validation and fine-tuned our final model with GridSearchCV. With the best estimator we obtained, we made predictions on the test set. \n",
    "\n",
    "Alghouth the socres are not too bad, to improve predictions, you could try to apply the followings,\n",
    "\n",
    " - Collect more data if you could for real-world problem (unlikely in this competition)\n",
    " - Perform better feature engineering/transforamtion\n",
    " - Train different models (e.g. Adaboost, bagging, etc.)\n",
    " - Search for optimal hyperparameters (e.g. GridsearchCV)\n",
    " \n",
    " "
   ]
  },
  {
   "cell_type": "code",
   "execution_count": 42,
   "metadata": {},
   "outputs": [],
   "source": [
    "#import xgboost as xgb\n",
    "\n",
    "# params = {\"objective\": \"reg:linear\", \"eta\": 0.02,\n",
    "#           \"min_child_weight\": 6, \"subsample\": 0.7,\n",
    "#           \"colsample_bytree\": 0.7, \"scale_pos_weight\": 0.8,\n",
    "#           \"silent\": 1, \"max_depth\": 8, \"max_delta_step\": 2}\n",
    "\n",
    "# dtrain = xgb.DMatrix(X, label=y)                     \n",
    "# dtest =  xgb.DMatrix(test)\n",
    "\n",
    "# num_rounds = 3000\n",
    "# model = xgb.train(params, dtrain, num_rounds)\n",
    "# preds = model.predict(dtest)\n",
    "\n",
    "# preds = np.expm1(preds)\n",
    "# preds = pd.DataFrame({\"id\": ids, \"cost\": preds})\n",
    "# preds.to_csv('benchmarkXGB.csv', index=False)"
   ]
  }
 ],
 "metadata": {
  "kernelspec": {
   "display_name": "Python 3",
   "language": "python",
   "name": "python3"
  },
  "language_info": {
   "codemirror_mode": {
    "name": "ipython",
    "version": 3
   },
   "file_extension": ".py",
   "mimetype": "text/x-python",
   "name": "python",
   "nbconvert_exporter": "python",
   "pygments_lexer": "ipython3",
   "version": "3.8.8"
  },
  "latex_envs": {
   "LaTeX_envs_menu_present": true,
   "autoclose": false,
   "autocomplete": true,
   "bibliofile": "biblio.bib",
   "cite_by": "apalike",
   "current_citInitial": 1,
   "eqLabelWithNumbers": true,
   "eqNumInitial": 1,
   "hotkeys": {
    "equation": "Ctrl-E",
    "itemize": "Ctrl-I"
   },
   "labels_anchors": false,
   "latex_user_defs": false,
   "report_style_numbering": false,
   "user_envs_cfg": false
  },
  "toc": {
   "base_numbering": 1,
   "nav_menu": {},
   "number_sections": true,
   "sideBar": true,
   "skip_h1_title": false,
   "title_cell": "Table of Contents",
   "title_sidebar": "Contents",
   "toc_cell": false,
   "toc_position": {},
   "toc_section_display": true,
   "toc_window_display": true
  }
 },
 "nbformat": 4,
 "nbformat_minor": 2
}
