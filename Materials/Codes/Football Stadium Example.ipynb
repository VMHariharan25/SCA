{
 "cells": [
  {
   "cell_type": "code",
   "execution_count": 1,
   "metadata": {},
   "outputs": [],
   "source": [
    "class Stadium(object):\n",
    "\n",
    "    def __init__(self, year, location, length, width, capacity, ticketprice):  # atributes of Stadium\n",
    "        self.year = year\n",
    "        self.location = location\n",
    "        self.length = length\n",
    "        self.width = width\n",
    "        self.capacity = capacity\n",
    "        self.ticketprice = ticketprice\n",
    "\n",
    "    # define methods for Stadium\n",
    "    def get_size(self):                                                    \n",
    "        return self.length * self.width\n",
    "\n",
    "    def get_revenue(self):\n",
    "        return self.capacity * self.ticketprice\n",
    "\n",
    "    def get_density(self):\n",
    "        size = self.get_size()\n",
    "        return self.capacity/size"
   ]
  },
  {
   "cell_type": "code",
   "execution_count": 2,
   "metadata": {},
   "outputs": [],
   "source": [
    "AstonVilla = Stadium(1897, \"Villa Park, Birmingham\", 105, 68, 42682, 517)\n",
    "ManUtd = Stadium(1910, \"Old Trafford, Manchester\", 105, 68, 74879, 741)"
   ]
  },
  {
   "cell_type": "code",
   "execution_count": 3,
   "metadata": {},
   "outputs": [
    {
     "data": {
      "text/plain": [
       "'Villa Park, Birmingham'"
      ]
     },
     "execution_count": 3,
     "metadata": {},
     "output_type": "execute_result"
    }
   ],
   "source": [
    "AstonVilla.location"
   ]
  },
  {
   "cell_type": "code",
   "execution_count": 4,
   "metadata": {},
   "outputs": [
    {
     "data": {
      "text/plain": [
       "42682"
      ]
     },
     "execution_count": 4,
     "metadata": {},
     "output_type": "execute_result"
    }
   ],
   "source": [
    "AstonVilla.capacity"
   ]
  },
  {
   "cell_type": "code",
   "execution_count": 5,
   "metadata": {},
   "outputs": [
    {
     "data": {
      "text/plain": [
       "74879"
      ]
     },
     "execution_count": 5,
     "metadata": {},
     "output_type": "execute_result"
    }
   ],
   "source": [
    "ManUtd.capacity"
   ]
  },
  {
   "cell_type": "code",
   "execution_count": 6,
   "metadata": {},
   "outputs": [
    {
     "name": "stdout",
     "output_type": "stream",
     "text": [
      "The size of the Stadium is 7140m²\n"
     ]
    }
   ],
   "source": [
    "print(\"The size of the Stadium is {}m\\u00b2\".format(AstonVilla.get_size()))"
   ]
  },
  {
   "cell_type": "code",
   "execution_count": 12,
   "metadata": {},
   "outputs": [
    {
     "name": "stdout",
     "output_type": "stream",
     "text": [
      "Aston Villa: total revenue from ticket sales is £22066594\n",
      "Man Utd: total revenue from ticket sales is £55485339\n"
     ]
    }
   ],
   "source": [
    "print(\"Aston Villa: total revenue from ticket sales is £{}\" .format(AstonVilla.get_revenue()))\n",
    "print(\"Man Utd: total revenue from ticket sales is £{}\" .format(ManUtd.get_revenue()))"
   ]
  },
  {
   "cell_type": "code",
   "execution_count": 8,
   "metadata": {},
   "outputs": [
    {
     "data": {
      "text/plain": [
       "5.977871148459384"
      ]
     },
     "execution_count": 8,
     "metadata": {},
     "output_type": "execute_result"
    }
   ],
   "source": [
    "AstonVilla.get_density()"
   ]
  },
  {
   "cell_type": "code",
   "execution_count": 9,
   "metadata": {},
   "outputs": [
    {
     "data": {
      "text/plain": [
       "10.487254901960783"
      ]
     },
     "execution_count": 9,
     "metadata": {},
     "output_type": "execute_result"
    }
   ],
   "source": [
    "ManUtd.get_density()"
   ]
  }
 ],
 "metadata": {
  "kernelspec": {
   "display_name": "Python 3",
   "language": "python",
   "name": "python3"
  },
  "language_info": {
   "codemirror_mode": {
    "name": "ipython",
    "version": 3
   },
   "file_extension": ".py",
   "mimetype": "text/x-python",
   "name": "python",
   "nbconvert_exporter": "python",
   "pygments_lexer": "ipython3",
   "version": "3.7.3"
  },
  "toc": {
   "base_numbering": 1,
   "nav_menu": {},
   "number_sections": true,
   "sideBar": true,
   "skip_h1_title": false,
   "title_cell": "Table of Contents",
   "title_sidebar": "Contents",
   "toc_cell": false,
   "toc_position": {},
   "toc_section_display": true,
   "toc_window_display": false
  }
 },
 "nbformat": 4,
 "nbformat_minor": 2
}
